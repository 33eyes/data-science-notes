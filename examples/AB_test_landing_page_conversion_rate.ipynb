{
 "cells": [
  {
   "cell_type": "markdown",
   "id": "3be47538-0de1-4932-9e81-0df0658b3e9c",
   "metadata": {},
   "source": [
    "# A/B testing landing page designs  "
   ]
  },
  {
   "cell_type": "code",
   "execution_count": 1,
   "id": "047fabcb-9e3c-4068-8da6-9c0433725889",
   "metadata": {},
   "outputs": [],
   "source": [
    "import pandas as pd\n",
    "import numpy as np \n",
    "import math\n",
    "import scipy\n",
    "import statsmodels.stats.api as sms\n",
    "from statsmodels.stats.proportion import proportions_ztest, proportion_confint"
   ]
  },
  {
   "cell_type": "markdown",
   "id": "e8379643-b591-4319-a4ce-f1f0f8f963a5",
   "metadata": {},
   "source": [
    "## Example description    \n",
    "\n",
    "This example is based on the [Kaggle A/B testing dataset by Luyuan Zhang](https://www.kaggle.com/datasets/zhangluyuan/ab-testing?select=ab_data.csv).  \n",
    "The dataset contains A/B test data for an experiment that compared an old vs new landing page design. The response variable is whether a user converted.  "
   ]
  },
  {
   "cell_type": "markdown",
   "id": "ad259b06-846c-4a4d-907d-9ca7efa6de26",
   "metadata": {},
   "source": [
    "## Experiment design  \n",
    "\n",
    "We have an old and a new landing page design, and we want to know whether switching to the new design has a significant impact on the performance of our landing page.  \n",
    "\n",
    "To measure this impact, we design an A/B test with the following setup:  \n",
    "- Our **control** exposure is the old landing page design, and our **treatment** exposure is the new design.  \n",
    "- We will randomly assign users to the treatment and control groups.  \n",
    "- To control for any unintentional effects from users seeing the same design twice or accidentally seeing both designs, we are only interested in the first landing page visits in this experiment.  \n",
    "- Our **response variable** is user conversion, a binary variable encoded as 0 = user did not convert and 1 = user converted.  \n",
    "- Our **Null hypothesis**: The conversion rate is the same for the old and new landing page designs. \n",
    "  - In other words, the new design didn't significantly improve or worsen the performance of the landing page.  \n",
    "- Our **Alternative hypothesis**: The new design's conversion rate is significantly different from that of the old design.  \n",
    "  - In other words, we observe in the data significant evidence that the new design either improves or worsens the performance of the landing page.  \n",
    "- We would like to have 95% confidence in our A/B test result, so we set our **level of statistical significance** (alpha) to 5%.  "
   ]
  },
  {
   "cell_type": "code",
   "execution_count": 2,
   "id": "a115cdeb-9345-4cdb-9ca6-e0e7ab0c155c",
   "metadata": {},
   "outputs": [],
   "source": [
    "ALPHA = 0.05"
   ]
  },
  {
   "cell_type": "markdown",
   "id": "2478243e-fe87-4a10-ac8a-e1d2a34fac58",
   "metadata": {},
   "source": [
    "## Calculating sample size  \n",
    "\n",
    "In practice, we usually need to select a sample size for the A/B test that is large enough to produce meaningful results and small enough to be feasible and cost effective. The bigger our data sample, the more precise our estimates will be.  \n",
    "\n",
    "We will calculate the minimum sample size needed for our A/B test. To do this, we need to pick the **effect size**, which is the normalized difference between the estimators for the two samples (the mean conversion rates, in this case).  \n",
    "\n",
    "Let's say we want to be able to detect a 1 percentage point difference between the old and new design conversion rates. In other words, if the average conversion rate for our old design is 12%, we want our experiment to be precise enough to distinguish an increase to 13% or a decrease to 11% in conversion rate for the new design."
   ]
  },
  {
   "cell_type": "code",
   "execution_count": 3,
   "id": "187bb847-22e8-4836-a59c-fb20d6d5f19b",
   "metadata": {},
   "outputs": [],
   "source": [
    "MIN_CONVERSION_RATE_MEANS_DIFF = 0.01"
   ]
  },
  {
   "cell_type": "markdown",
   "id": "080d93df-7950-4d7a-8024-f55efea324e4",
   "metadata": {},
   "source": [
    "According to [Hubspot](https://blog.hubspot.com/marketing/landing-page-stats), the average landing page conversion rate is about 10%. Let's assume this rate as the control/old design conversion rate."
   ]
  },
  {
   "cell_type": "code",
   "execution_count": 4,
   "id": "c9d21735-d4f8-40f0-9439-c3694113def4",
   "metadata": {},
   "outputs": [],
   "source": [
    "CONTROL_CONVERSION_RATE = 0.1"
   ]
  },
  {
   "cell_type": "markdown",
   "id": "0f548268-107d-4165-98c3-c319ad872517",
   "metadata": {},
   "source": [
    "We can use these numbers to estimate our effect size."
   ]
  },
  {
   "cell_type": "code",
   "execution_count": 5,
   "id": "78088f85-fcd7-44da-8884-0f0ea35e9d37",
   "metadata": {},
   "outputs": [
    {
     "name": "stdout",
     "output_type": "stream",
     "text": [
      "Effect size: 0.0326\n"
     ]
    }
   ],
   "source": [
    "# Subtracts the 2nd proportion value from the first and normalizes it\n",
    "ES = sms.proportion_effectsize(\n",
    "    CONTROL_CONVERSION_RATE + MIN_CONVERSION_RATE_MEANS_DIFF, \n",
    "    CONTROL_CONVERSION_RATE) \n",
    "print(f'Effect size: {ES:.4f}')"
   ]
  },
  {
   "cell_type": "markdown",
   "id": "48b58cf2-0102-4360-ae31-0bd1d685096d",
   "metadata": {},
   "source": [
    "We are now ready to compute the minimum sample size needed for each treatment group in our experiment."
   ]
  },
  {
   "cell_type": "code",
   "execution_count": 6,
   "id": "825396b0-070b-4389-822f-d927c731e5ea",
   "metadata": {},
   "outputs": [
    {
     "name": "stdout",
     "output_type": "stream",
     "text": [
      "Minimum sample size: 14,746 observations.\n"
     ]
    }
   ],
   "source": [
    "sample_size = math.ceil(\n",
    "    sms.TTestIndPower().solve_power(\n",
    "        effect_size=ES, \n",
    "        power=0.8, # standard setting\n",
    "        alpha=ALPHA\n",
    "    )\n",
    ")\n",
    "print(f'Minimum sample size: {sample_size:,} observations.')"
   ]
  },
  {
   "cell_type": "markdown",
   "id": "2a33e68f-0e3e-4f43-8651-60bc1e381ed1",
   "metadata": {},
   "source": [
    "## Collect data  \n",
    "\n",
    "Download the `ab_data.csv` dataset here: [Kaggle A/B testing dataset by Luyuan Zhang](https://www.kaggle.com/datasets/zhangluyuan/ab-testing?select=ab_data.csv).  "
   ]
  },
  {
   "cell_type": "code",
   "execution_count": 7,
   "id": "2f470370-5022-49b1-b39a-e60e97e46bc4",
   "metadata": {},
   "outputs": [],
   "source": [
    "df = pd.read_csv('../data/ab_data.csv')"
   ]
  },
  {
   "cell_type": "code",
   "execution_count": 8,
   "id": "db903425-f161-4c67-9436-15912830fae2",
   "metadata": {},
   "outputs": [
    {
     "data": {
      "text/html": [
       "<div>\n",
       "<style scoped>\n",
       "    .dataframe tbody tr th:only-of-type {\n",
       "        vertical-align: middle;\n",
       "    }\n",
       "\n",
       "    .dataframe tbody tr th {\n",
       "        vertical-align: top;\n",
       "    }\n",
       "\n",
       "    .dataframe thead th {\n",
       "        text-align: right;\n",
       "    }\n",
       "</style>\n",
       "<table border=\"1\" class=\"dataframe\">\n",
       "  <thead>\n",
       "    <tr style=\"text-align: right;\">\n",
       "      <th></th>\n",
       "      <th>user_id</th>\n",
       "      <th>timestamp</th>\n",
       "      <th>group</th>\n",
       "      <th>landing_page</th>\n",
       "      <th>converted</th>\n",
       "    </tr>\n",
       "  </thead>\n",
       "  <tbody>\n",
       "    <tr>\n",
       "      <th>0</th>\n",
       "      <td>851104</td>\n",
       "      <td>2017-01-21 22:11:48.556739</td>\n",
       "      <td>control</td>\n",
       "      <td>old_page</td>\n",
       "      <td>0</td>\n",
       "    </tr>\n",
       "    <tr>\n",
       "      <th>1</th>\n",
       "      <td>804228</td>\n",
       "      <td>2017-01-12 08:01:45.159739</td>\n",
       "      <td>control</td>\n",
       "      <td>old_page</td>\n",
       "      <td>0</td>\n",
       "    </tr>\n",
       "    <tr>\n",
       "      <th>2</th>\n",
       "      <td>661590</td>\n",
       "      <td>2017-01-11 16:55:06.154213</td>\n",
       "      <td>treatment</td>\n",
       "      <td>new_page</td>\n",
       "      <td>0</td>\n",
       "    </tr>\n",
       "    <tr>\n",
       "      <th>3</th>\n",
       "      <td>853541</td>\n",
       "      <td>2017-01-08 18:28:03.143765</td>\n",
       "      <td>treatment</td>\n",
       "      <td>new_page</td>\n",
       "      <td>0</td>\n",
       "    </tr>\n",
       "    <tr>\n",
       "      <th>4</th>\n",
       "      <td>864975</td>\n",
       "      <td>2017-01-21 01:52:26.210827</td>\n",
       "      <td>control</td>\n",
       "      <td>old_page</td>\n",
       "      <td>1</td>\n",
       "    </tr>\n",
       "  </tbody>\n",
       "</table>\n",
       "</div>"
      ],
      "text/plain": [
       "   user_id                   timestamp      group landing_page  converted\n",
       "0   851104  2017-01-21 22:11:48.556739    control     old_page          0\n",
       "1   804228  2017-01-12 08:01:45.159739    control     old_page          0\n",
       "2   661590  2017-01-11 16:55:06.154213  treatment     new_page          0\n",
       "3   853541  2017-01-08 18:28:03.143765  treatment     new_page          0\n",
       "4   864975  2017-01-21 01:52:26.210827    control     old_page          1"
      ]
     },
     "execution_count": 8,
     "metadata": {},
     "output_type": "execute_result"
    }
   ],
   "source": [
    "df.head()"
   ]
  },
  {
   "cell_type": "code",
   "execution_count": 9,
   "id": "933ce73f-9c97-41c4-9be7-49959413ff16",
   "metadata": {},
   "outputs": [
    {
     "name": "stdout",
     "output_type": "stream",
     "text": [
      "<class 'pandas.core.frame.DataFrame'>\n",
      "RangeIndex: 294478 entries, 0 to 294477\n",
      "Data columns (total 5 columns):\n",
      " #   Column        Non-Null Count   Dtype \n",
      "---  ------        --------------   ----- \n",
      " 0   user_id       294478 non-null  int64 \n",
      " 1   timestamp     294478 non-null  object\n",
      " 2   group         294478 non-null  object\n",
      " 3   landing_page  294478 non-null  object\n",
      " 4   converted     294478 non-null  int64 \n",
      "dtypes: int64(2), object(3)\n",
      "memory usage: 11.2+ MB\n"
     ]
    }
   ],
   "source": [
    "df.info()"
   ]
  },
  {
   "cell_type": "markdown",
   "id": "f5386292-499a-4719-af44-7a2e99d2f97e",
   "metadata": {},
   "source": [
    "Ensuring that the data is in the right format:"
   ]
  },
  {
   "cell_type": "code",
   "execution_count": 10,
   "id": "d60482df-da29-4856-b090-8484bb0b3c6d",
   "metadata": {},
   "outputs": [],
   "source": [
    "df['timestamp'] = pd.to_datetime(df['timestamp'])"
   ]
  },
  {
   "cell_type": "code",
   "execution_count": 11,
   "id": "cc651261-b13d-47b8-b0f7-c2792cb2b651",
   "metadata": {},
   "outputs": [],
   "source": [
    "df['user_id'] = df['user_id'].astype('str')"
   ]
  },
  {
   "cell_type": "markdown",
   "id": "ac1df1b4-ed16-4048-af85-4f1043cca293",
   "metadata": {},
   "source": [
    "### Descriptive statistics of raw data"
   ]
  },
  {
   "cell_type": "code",
   "execution_count": 12,
   "id": "b80bd85e-1563-4dd1-bcea-0ae4dae6dff4",
   "metadata": {
    "tags": []
   },
   "outputs": [
    {
     "data": {
      "text/html": [
       "<div>\n",
       "<style scoped>\n",
       "    .dataframe tbody tr th:only-of-type {\n",
       "        vertical-align: middle;\n",
       "    }\n",
       "\n",
       "    .dataframe tbody tr th {\n",
       "        vertical-align: top;\n",
       "    }\n",
       "\n",
       "    .dataframe thead th {\n",
       "        text-align: right;\n",
       "    }\n",
       "</style>\n",
       "<table border=\"1\" class=\"dataframe\">\n",
       "  <thead>\n",
       "    <tr style=\"text-align: right;\">\n",
       "      <th></th>\n",
       "      <th>user_id</th>\n",
       "      <th>timestamp</th>\n",
       "      <th>group</th>\n",
       "      <th>landing_page</th>\n",
       "      <th>converted</th>\n",
       "    </tr>\n",
       "  </thead>\n",
       "  <tbody>\n",
       "    <tr>\n",
       "      <th>count</th>\n",
       "      <td>294478</td>\n",
       "      <td>294478</td>\n",
       "      <td>294478</td>\n",
       "      <td>294478</td>\n",
       "      <td>294478.000000</td>\n",
       "    </tr>\n",
       "    <tr>\n",
       "      <th>unique</th>\n",
       "      <td>290584</td>\n",
       "      <td>NaN</td>\n",
       "      <td>2</td>\n",
       "      <td>2</td>\n",
       "      <td>NaN</td>\n",
       "    </tr>\n",
       "    <tr>\n",
       "      <th>top</th>\n",
       "      <td>805339</td>\n",
       "      <td>NaN</td>\n",
       "      <td>treatment</td>\n",
       "      <td>old_page</td>\n",
       "      <td>NaN</td>\n",
       "    </tr>\n",
       "    <tr>\n",
       "      <th>freq</th>\n",
       "      <td>2</td>\n",
       "      <td>NaN</td>\n",
       "      <td>147276</td>\n",
       "      <td>147239</td>\n",
       "      <td>NaN</td>\n",
       "    </tr>\n",
       "    <tr>\n",
       "      <th>mean</th>\n",
       "      <td>NaN</td>\n",
       "      <td>2017-01-13 13:40:10.474213376</td>\n",
       "      <td>NaN</td>\n",
       "      <td>NaN</td>\n",
       "      <td>0.119659</td>\n",
       "    </tr>\n",
       "    <tr>\n",
       "      <th>min</th>\n",
       "      <td>NaN</td>\n",
       "      <td>2017-01-02 13:42:05.378582</td>\n",
       "      <td>NaN</td>\n",
       "      <td>NaN</td>\n",
       "      <td>0.000000</td>\n",
       "    </tr>\n",
       "    <tr>\n",
       "      <th>25%</th>\n",
       "      <td>NaN</td>\n",
       "      <td>2017-01-08 02:06:48.649925120</td>\n",
       "      <td>NaN</td>\n",
       "      <td>NaN</td>\n",
       "      <td>0.000000</td>\n",
       "    </tr>\n",
       "    <tr>\n",
       "      <th>50%</th>\n",
       "      <td>NaN</td>\n",
       "      <td>2017-01-13 13:21:07.016475904</td>\n",
       "      <td>NaN</td>\n",
       "      <td>NaN</td>\n",
       "      <td>0.000000</td>\n",
       "    </tr>\n",
       "    <tr>\n",
       "      <th>75%</th>\n",
       "      <td>NaN</td>\n",
       "      <td>2017-01-19 01:43:51.611873792</td>\n",
       "      <td>NaN</td>\n",
       "      <td>NaN</td>\n",
       "      <td>0.000000</td>\n",
       "    </tr>\n",
       "    <tr>\n",
       "      <th>max</th>\n",
       "      <td>NaN</td>\n",
       "      <td>2017-01-24 13:41:54.460509</td>\n",
       "      <td>NaN</td>\n",
       "      <td>NaN</td>\n",
       "      <td>1.000000</td>\n",
       "    </tr>\n",
       "    <tr>\n",
       "      <th>std</th>\n",
       "      <td>NaN</td>\n",
       "      <td>NaN</td>\n",
       "      <td>NaN</td>\n",
       "      <td>NaN</td>\n",
       "      <td>0.324563</td>\n",
       "    </tr>\n",
       "  </tbody>\n",
       "</table>\n",
       "</div>"
      ],
      "text/plain": [
       "       user_id                      timestamp      group landing_page  \\\n",
       "count   294478                         294478     294478       294478   \n",
       "unique  290584                            NaN          2            2   \n",
       "top     805339                            NaN  treatment     old_page   \n",
       "freq         2                            NaN     147276       147239   \n",
       "mean       NaN  2017-01-13 13:40:10.474213376        NaN          NaN   \n",
       "min        NaN     2017-01-02 13:42:05.378582        NaN          NaN   \n",
       "25%        NaN  2017-01-08 02:06:48.649925120        NaN          NaN   \n",
       "50%        NaN  2017-01-13 13:21:07.016475904        NaN          NaN   \n",
       "75%        NaN  2017-01-19 01:43:51.611873792        NaN          NaN   \n",
       "max        NaN     2017-01-24 13:41:54.460509        NaN          NaN   \n",
       "std        NaN                            NaN        NaN          NaN   \n",
       "\n",
       "            converted  \n",
       "count   294478.000000  \n",
       "unique            NaN  \n",
       "top               NaN  \n",
       "freq              NaN  \n",
       "mean         0.119659  \n",
       "min          0.000000  \n",
       "25%          0.000000  \n",
       "50%          0.000000  \n",
       "75%          0.000000  \n",
       "max          1.000000  \n",
       "std          0.324563  "
      ]
     },
     "execution_count": 12,
     "metadata": {},
     "output_type": "execute_result"
    }
   ],
   "source": [
    "df.describe(include='all', datetime_is_numeric=True)"
   ]
  },
  {
   "cell_type": "code",
   "execution_count": 13,
   "id": "82a6832e-893e-44af-9b13-23eda0621574",
   "metadata": {},
   "outputs": [
    {
     "data": {
      "text/plain": [
       "landing_page  group    \n",
       "new_page      treatment    145311\n",
       "              control        1928\n",
       "old_page      control      145274\n",
       "              treatment      1965\n",
       "Name: group, dtype: int64"
      ]
     },
     "execution_count": 13,
     "metadata": {},
     "output_type": "execute_result"
    }
   ],
   "source": [
    "df.groupby('landing_page')['group'].value_counts(dropna=False)"
   ]
  },
  {
   "cell_type": "code",
   "execution_count": 14,
   "id": "c12c52c4-5238-4c97-bb30-54d3a335b22b",
   "metadata": {},
   "outputs": [
    {
     "data": {
      "text/plain": [
       "landing_page  group      converted\n",
       "new_page      control    0              1694\n",
       "                         1               234\n",
       "              treatment  0            128047\n",
       "                         1             17264\n",
       "old_page      control    0            127785\n",
       "                         1             17489\n",
       "              treatment  0              1715\n",
       "                         1               250\n",
       "Name: converted, dtype: int64"
      ]
     },
     "execution_count": 14,
     "metadata": {},
     "output_type": "execute_result"
    }
   ],
   "source": [
    "df.groupby(['landing_page', 'group'])['converted'].value_counts(dropna=False)"
   ]
  },
  {
   "cell_type": "code",
   "execution_count": 15,
   "id": "a20d1fbd-1045-4046-8f6e-cf550452eb0b",
   "metadata": {},
   "outputs": [
    {
     "data": {
      "text/plain": [
       "False    290584\n",
       "True       3894\n",
       "dtype: int64"
      ]
     },
     "execution_count": 15,
     "metadata": {},
     "output_type": "execute_result"
    }
   ],
   "source": [
    "df.duplicated('user_id').value_counts()"
   ]
  },
  {
   "cell_type": "code",
   "execution_count": 16,
   "id": "16004ce3-0c97-46d8-9e9f-40fa42e99c5a",
   "metadata": {},
   "outputs": [
    {
     "data": {
      "text/plain": [
       "False    0.986777\n",
       "True     0.013223\n",
       "dtype: float64"
      ]
     },
     "execution_count": 16,
     "metadata": {},
     "output_type": "execute_result"
    }
   ],
   "source": [
    "df.duplicated('user_id').value_counts(normalize=True)"
   ]
  },
  {
   "cell_type": "markdown",
   "id": "d7235d66-0ed9-464d-9a66-3c460b549444",
   "metadata": {},
   "source": [
    "**The descriptive statistics above tell us the following:**  \n",
    "- The A/B test expereiment was conducted in January 2017, for the duration of 23 days.  \n",
    "- Most users visited the landing page only once (98.7%), and a small subset of users (3,894 or 1.3%) visited the landing page twice during the A/B test experiment.  \n",
    "- The old landing page design is most likely the intended control exposure in the experiment, and the new landing page is the treatment. However, the data contains control group users who were shown the new landing page and treatment group users who were shown the old landing page. These things can happen when an experiment is carried out, which is why exploratory data analysis (EDA) and data cleaning steps are crucial steps in any data analysis.  \n",
    "- The average conversion rate in the raw dataset is about 12%, with a relatively large standard deviation of 32%.  "
   ]
  },
  {
   "cell_type": "markdown",
   "id": "968b250f-3265-4295-8f1f-0d50007e36de",
   "metadata": {},
   "source": [
    "## Data cleaning  \n",
    "\n",
    "Based on the quick EDA above, we need to take the following data cleaning steps:  \n",
    "- Remove the 2nd visit data rows for users who visited the landing page twice during the experiment. We want to keep their first visit data, since that is a valid exposure in our experiment.  \n",
    "- Remove the observations where the control group user was shown the new page design or the treatment group user was shown the old page design. \n",
    "  - It is entirely possible that we could simply reassign all users who were shown the old page design to the control group and the rest to the treatment group. We could do that with confidence if we knew for a fact that no confounding factors played a role in the misassignment of users to treatments. Since we do not know that, it is safer to only keep the consistently assigned data for this analysis.  "
   ]
  },
  {
   "cell_type": "markdown",
   "id": "a3e657fa-a015-4f7b-9b41-8522d958cede",
   "metadata": {},
   "source": [
    "#### Sort by time"
   ]
  },
  {
   "cell_type": "code",
   "execution_count": 17,
   "id": "fe876725-ea9c-4a81-b33f-060bb2b5a2fc",
   "metadata": {},
   "outputs": [],
   "source": [
    "df.sort_values('timestamp', inplace=True)"
   ]
  },
  {
   "cell_type": "markdown",
   "id": "40018e0b-ef4f-4679-a073-8efa08b65c5c",
   "metadata": {},
   "source": [
    "#### Drop the 2nd visit data rows"
   ]
  },
  {
   "cell_type": "markdown",
   "id": "d0a6ed67-d08e-46c9-9b15-1757177f79a3",
   "metadata": {},
   "source": [
    "First, let's take a look at what the duplicates look like."
   ]
  },
  {
   "cell_type": "code",
   "execution_count": 18,
   "id": "43113f42-b02e-411c-9c66-f7f5ce441525",
   "metadata": {},
   "outputs": [
    {
     "data": {
      "text/html": [
       "<div>\n",
       "<style scoped>\n",
       "    .dataframe tbody tr th:only-of-type {\n",
       "        vertical-align: middle;\n",
       "    }\n",
       "\n",
       "    .dataframe tbody tr th {\n",
       "        vertical-align: top;\n",
       "    }\n",
       "\n",
       "    .dataframe thead th {\n",
       "        text-align: right;\n",
       "    }\n",
       "</style>\n",
       "<table border=\"1\" class=\"dataframe\">\n",
       "  <thead>\n",
       "    <tr style=\"text-align: right;\">\n",
       "      <th></th>\n",
       "      <th>user_id</th>\n",
       "      <th>timestamp</th>\n",
       "      <th>group</th>\n",
       "      <th>landing_page</th>\n",
       "      <th>converted</th>\n",
       "    </tr>\n",
       "  </thead>\n",
       "  <tbody>\n",
       "    <tr>\n",
       "      <th>213114</th>\n",
       "      <td>630052</td>\n",
       "      <td>2017-01-07 12:25:54.089486</td>\n",
       "      <td>treatment</td>\n",
       "      <td>old_page</td>\n",
       "      <td>1</td>\n",
       "    </tr>\n",
       "    <tr>\n",
       "      <th>230259</th>\n",
       "      <td>630052</td>\n",
       "      <td>2017-01-17 01:16:05.208766</td>\n",
       "      <td>treatment</td>\n",
       "      <td>new_page</td>\n",
       "      <td>0</td>\n",
       "    </tr>\n",
       "    <tr>\n",
       "      <th>22513</th>\n",
       "      <td>630126</td>\n",
       "      <td>2017-01-14 13:35:54.778695</td>\n",
       "      <td>treatment</td>\n",
       "      <td>old_page</td>\n",
       "      <td>0</td>\n",
       "    </tr>\n",
       "    <tr>\n",
       "      <th>251762</th>\n",
       "      <td>630126</td>\n",
       "      <td>2017-01-19 17:16:00.280440</td>\n",
       "      <td>treatment</td>\n",
       "      <td>new_page</td>\n",
       "      <td>0</td>\n",
       "    </tr>\n",
       "    <tr>\n",
       "      <th>183371</th>\n",
       "      <td>630137</td>\n",
       "      <td>2017-01-20 02:08:49.893878</td>\n",
       "      <td>control</td>\n",
       "      <td>old_page</td>\n",
       "      <td>0</td>\n",
       "    </tr>\n",
       "    <tr>\n",
       "      <th>...</th>\n",
       "      <td>...</td>\n",
       "      <td>...</td>\n",
       "      <td>...</td>\n",
       "      <td>...</td>\n",
       "      <td>...</td>\n",
       "    </tr>\n",
       "    <tr>\n",
       "      <th>99479</th>\n",
       "      <td>945703</td>\n",
       "      <td>2017-01-18 06:39:31.294688</td>\n",
       "      <td>control</td>\n",
       "      <td>old_page</td>\n",
       "      <td>0</td>\n",
       "    </tr>\n",
       "    <tr>\n",
       "      <th>40370</th>\n",
       "      <td>945797</td>\n",
       "      <td>2017-01-11 03:04:49.433736</td>\n",
       "      <td>control</td>\n",
       "      <td>new_page</td>\n",
       "      <td>1</td>\n",
       "    </tr>\n",
       "    <tr>\n",
       "      <th>186960</th>\n",
       "      <td>945797</td>\n",
       "      <td>2017-01-13 17:23:21.750962</td>\n",
       "      <td>control</td>\n",
       "      <td>old_page</td>\n",
       "      <td>0</td>\n",
       "    </tr>\n",
       "    <tr>\n",
       "      <th>165143</th>\n",
       "      <td>945971</td>\n",
       "      <td>2017-01-16 10:09:18.383183</td>\n",
       "      <td>control</td>\n",
       "      <td>old_page</td>\n",
       "      <td>0</td>\n",
       "    </tr>\n",
       "    <tr>\n",
       "      <th>131756</th>\n",
       "      <td>945971</td>\n",
       "      <td>2017-01-22 12:43:54.087275</td>\n",
       "      <td>control</td>\n",
       "      <td>new_page</td>\n",
       "      <td>0</td>\n",
       "    </tr>\n",
       "  </tbody>\n",
       "</table>\n",
       "<p>7788 rows × 5 columns</p>\n",
       "</div>"
      ],
      "text/plain": [
       "       user_id                  timestamp      group landing_page  converted\n",
       "213114  630052 2017-01-07 12:25:54.089486  treatment     old_page          1\n",
       "230259  630052 2017-01-17 01:16:05.208766  treatment     new_page          0\n",
       "22513   630126 2017-01-14 13:35:54.778695  treatment     old_page          0\n",
       "251762  630126 2017-01-19 17:16:00.280440  treatment     new_page          0\n",
       "183371  630137 2017-01-20 02:08:49.893878    control     old_page          0\n",
       "...        ...                        ...        ...          ...        ...\n",
       "99479   945703 2017-01-18 06:39:31.294688    control     old_page          0\n",
       "40370   945797 2017-01-11 03:04:49.433736    control     new_page          1\n",
       "186960  945797 2017-01-13 17:23:21.750962    control     old_page          0\n",
       "165143  945971 2017-01-16 10:09:18.383183    control     old_page          0\n",
       "131756  945971 2017-01-22 12:43:54.087275    control     new_page          0\n",
       "\n",
       "[7788 rows x 5 columns]"
      ]
     },
     "execution_count": 18,
     "metadata": {},
     "output_type": "execute_result"
    }
   ],
   "source": [
    "df[df.duplicated(subset='user_id', keep=False)].sort_values(['user_id', 'timestamp'])"
   ]
  },
  {
   "cell_type": "code",
   "execution_count": 19,
   "id": "4a6689b8-912a-4c49-bc98-2ad0f29a598a",
   "metadata": {},
   "outputs": [
    {
     "data": {
      "text/plain": [
       "294478"
      ]
     },
     "execution_count": 19,
     "metadata": {},
     "output_type": "execute_result"
    }
   ],
   "source": [
    "len(df)"
   ]
  },
  {
   "cell_type": "code",
   "execution_count": 20,
   "id": "53518532-a052-46c2-8a82-72fec1ba7404",
   "metadata": {},
   "outputs": [],
   "source": [
    "df.drop_duplicates(subset='user_id', keep='first', inplace=True)"
   ]
  },
  {
   "cell_type": "code",
   "execution_count": 21,
   "id": "f1509066-6b2d-4404-bf8c-e3b9974230dc",
   "metadata": {},
   "outputs": [
    {
     "data": {
      "text/plain": [
       "290584"
      ]
     },
     "execution_count": 21,
     "metadata": {},
     "output_type": "execute_result"
    }
   ],
   "source": [
    "len(df)"
   ]
  },
  {
   "cell_type": "markdown",
   "id": "cc53fdcb-019c-4ac1-8e1b-3c6bd0d48653",
   "metadata": {},
   "source": [
    "#### Clean up control/treatment misasignments"
   ]
  },
  {
   "cell_type": "code",
   "execution_count": 22,
   "id": "c93e486d-d659-40ec-985f-e53e12dc704b",
   "metadata": {},
   "outputs": [],
   "source": [
    "control_group_filter = (df['landing_page']=='old_page') & (df['group']=='control')\n",
    "treatment_group_filter = (df['landing_page']=='new_page') & (df['group']=='treatment')\n",
    "\n",
    "df = df[control_group_filter | treatment_group_filter]"
   ]
  },
  {
   "cell_type": "code",
   "execution_count": 23,
   "id": "9d6f4db4-cc70-4040-887b-79b251ccaa2b",
   "metadata": {},
   "outputs": [
    {
     "data": {
      "text/plain": [
       "landing_page  group      converted\n",
       "new_page      treatment  0            127186\n",
       "                         1             17130\n",
       "old_page      control    0            126944\n",
       "                         1             17375\n",
       "Name: converted, dtype: int64"
      ]
     },
     "execution_count": 23,
     "metadata": {},
     "output_type": "execute_result"
    }
   ],
   "source": [
    "df.groupby(['landing_page', 'group'])['converted'].value_counts(dropna=False)"
   ]
  },
  {
   "cell_type": "code",
   "execution_count": 24,
   "id": "8ec28a28-2469-4452-851e-e9abaf87f652",
   "metadata": {},
   "outputs": [
    {
     "data": {
      "text/plain": [
       "288635"
      ]
     },
     "execution_count": 24,
     "metadata": {},
     "output_type": "execute_result"
    }
   ],
   "source": [
    "len(df)"
   ]
  },
  {
   "cell_type": "markdown",
   "id": "908c0be7-af5d-461b-9fed-a281888dd84f",
   "metadata": {},
   "source": [
    "### Descriptive stats of the cleaned up dataset"
   ]
  },
  {
   "cell_type": "code",
   "execution_count": 25,
   "id": "9da7d177-06c6-4f74-90ee-67c5877f1441",
   "metadata": {},
   "outputs": [
    {
     "data": {
      "text/html": [
       "<div>\n",
       "<style scoped>\n",
       "    .dataframe tbody tr th:only-of-type {\n",
       "        vertical-align: middle;\n",
       "    }\n",
       "\n",
       "    .dataframe tbody tr th {\n",
       "        vertical-align: top;\n",
       "    }\n",
       "\n",
       "    .dataframe thead th {\n",
       "        text-align: right;\n",
       "    }\n",
       "</style>\n",
       "<table border=\"1\" class=\"dataframe\">\n",
       "  <thead>\n",
       "    <tr style=\"text-align: right;\">\n",
       "      <th></th>\n",
       "      <th>user_id</th>\n",
       "      <th>timestamp</th>\n",
       "      <th>group</th>\n",
       "      <th>landing_page</th>\n",
       "      <th>converted</th>\n",
       "    </tr>\n",
       "  </thead>\n",
       "  <tbody>\n",
       "    <tr>\n",
       "      <th>count</th>\n",
       "      <td>288635</td>\n",
       "      <td>288635</td>\n",
       "      <td>288635</td>\n",
       "      <td>288635</td>\n",
       "      <td>288635.000000</td>\n",
       "    </tr>\n",
       "    <tr>\n",
       "      <th>unique</th>\n",
       "      <td>288635</td>\n",
       "      <td>NaN</td>\n",
       "      <td>2</td>\n",
       "      <td>2</td>\n",
       "      <td>NaN</td>\n",
       "    </tr>\n",
       "    <tr>\n",
       "      <th>top</th>\n",
       "      <td>922696</td>\n",
       "      <td>NaN</td>\n",
       "      <td>control</td>\n",
       "      <td>old_page</td>\n",
       "      <td>NaN</td>\n",
       "    </tr>\n",
       "    <tr>\n",
       "      <th>freq</th>\n",
       "      <td>1</td>\n",
       "      <td>NaN</td>\n",
       "      <td>144319</td>\n",
       "      <td>144319</td>\n",
       "      <td>NaN</td>\n",
       "    </tr>\n",
       "    <tr>\n",
       "      <th>mean</th>\n",
       "      <td>NaN</td>\n",
       "      <td>2017-01-13 13:05:20.392675072</td>\n",
       "      <td>NaN</td>\n",
       "      <td>NaN</td>\n",
       "      <td>0.119545</td>\n",
       "    </tr>\n",
       "    <tr>\n",
       "      <th>min</th>\n",
       "      <td>NaN</td>\n",
       "      <td>2017-01-02 13:42:05.378582</td>\n",
       "      <td>NaN</td>\n",
       "      <td>NaN</td>\n",
       "      <td>0.000000</td>\n",
       "    </tr>\n",
       "    <tr>\n",
       "      <th>25%</th>\n",
       "      <td>NaN</td>\n",
       "      <td>2017-01-08 01:25:10.110609920</td>\n",
       "      <td>NaN</td>\n",
       "      <td>NaN</td>\n",
       "      <td>0.000000</td>\n",
       "    </tr>\n",
       "    <tr>\n",
       "      <th>50%</th>\n",
       "      <td>NaN</td>\n",
       "      <td>2017-01-13 12:24:48.310561024</td>\n",
       "      <td>NaN</td>\n",
       "      <td>NaN</td>\n",
       "      <td>0.000000</td>\n",
       "    </tr>\n",
       "    <tr>\n",
       "      <th>75%</th>\n",
       "      <td>NaN</td>\n",
       "      <td>2017-01-19 01:11:56.032314368</td>\n",
       "      <td>NaN</td>\n",
       "      <td>NaN</td>\n",
       "      <td>0.000000</td>\n",
       "    </tr>\n",
       "    <tr>\n",
       "      <th>max</th>\n",
       "      <td>NaN</td>\n",
       "      <td>2017-01-24 13:41:54.460509</td>\n",
       "      <td>NaN</td>\n",
       "      <td>NaN</td>\n",
       "      <td>1.000000</td>\n",
       "    </tr>\n",
       "    <tr>\n",
       "      <th>std</th>\n",
       "      <td>NaN</td>\n",
       "      <td>NaN</td>\n",
       "      <td>NaN</td>\n",
       "      <td>NaN</td>\n",
       "      <td>0.324430</td>\n",
       "    </tr>\n",
       "  </tbody>\n",
       "</table>\n",
       "</div>"
      ],
      "text/plain": [
       "       user_id                      timestamp    group landing_page  \\\n",
       "count   288635                         288635   288635       288635   \n",
       "unique  288635                            NaN        2            2   \n",
       "top     922696                            NaN  control     old_page   \n",
       "freq         1                            NaN   144319       144319   \n",
       "mean       NaN  2017-01-13 13:05:20.392675072      NaN          NaN   \n",
       "min        NaN     2017-01-02 13:42:05.378582      NaN          NaN   \n",
       "25%        NaN  2017-01-08 01:25:10.110609920      NaN          NaN   \n",
       "50%        NaN  2017-01-13 12:24:48.310561024      NaN          NaN   \n",
       "75%        NaN  2017-01-19 01:11:56.032314368      NaN          NaN   \n",
       "max        NaN     2017-01-24 13:41:54.460509      NaN          NaN   \n",
       "std        NaN                            NaN      NaN          NaN   \n",
       "\n",
       "            converted  \n",
       "count   288635.000000  \n",
       "unique            NaN  \n",
       "top               NaN  \n",
       "freq              NaN  \n",
       "mean         0.119545  \n",
       "min          0.000000  \n",
       "25%          0.000000  \n",
       "50%          0.000000  \n",
       "75%          0.000000  \n",
       "max          1.000000  \n",
       "std          0.324430  "
      ]
     },
     "execution_count": 25,
     "metadata": {},
     "output_type": "execute_result"
    }
   ],
   "source": [
    "df.describe(include='all', datetime_is_numeric=True)"
   ]
  },
  {
   "cell_type": "markdown",
   "id": "0041ce54-fa0d-498f-a43f-3f83a6d1676b",
   "metadata": {},
   "source": [
    "## Sampling"
   ]
  },
  {
   "cell_type": "code",
   "execution_count": 26,
   "id": "5ffbb1f2-dee9-4067-9141-b3d77c7a6cdd",
   "metadata": {},
   "outputs": [
    {
     "name": "stdout",
     "output_type": "stream",
     "text": [
      "Total observations in control group: 144,319.\n"
     ]
    }
   ],
   "source": [
    "print(f\"Total observations in control group: {len(df[df['group'] == 'control']):,}.\")"
   ]
  },
  {
   "cell_type": "code",
   "execution_count": 27,
   "id": "a19790ce-365a-45e0-81d5-feaf39567dcc",
   "metadata": {},
   "outputs": [
    {
     "name": "stdout",
     "output_type": "stream",
     "text": [
      "Total observations in treatment group: 144,316.\n"
     ]
    }
   ],
   "source": [
    "print(f\"Total observations in treatment group: {len(df[df['group'] == 'treatment']):,}.\")"
   ]
  },
  {
   "cell_type": "code",
   "execution_count": 28,
   "id": "98e60d84-c9b8-47ee-83ef-da7b53c94dc3",
   "metadata": {},
   "outputs": [
    {
     "name": "stdout",
     "output_type": "stream",
     "text": [
      "Our minimum sample size: 14,746\n"
     ]
    }
   ],
   "source": [
    "print(f'Our minimum sample size: {sample_size:,}')"
   ]
  },
  {
   "cell_type": "markdown",
   "id": "94d5250e-f315-497c-8285-c385fbafdc78",
   "metadata": {},
   "source": [
    "Before sampling, it is a good idea to check how many observations are already available or easily feasible to obtain.  \n",
    "In this example, the cleaned dataset contains nearly equal numbers of oberservations for control and treatment groups, and the size of each subset is nearly 10 times what we need for our minimum sample size. This is great, because not only do we have enough data to test for our selected effect size, but we can further improve on our precision but taking the maximum samples available to us.   \n",
    "\n",
    "How small of an effect size can we detect by doing so? Let's take a look.  "
   ]
  },
  {
   "cell_type": "code",
   "execution_count": 29,
   "id": "22565a93-d98e-4646-9d8e-39507b659f19",
   "metadata": {},
   "outputs": [],
   "source": [
    "N = 144_316 # the new sample size"
   ]
  },
  {
   "cell_type": "code",
   "execution_count": 30,
   "id": "fe61ea1f-8811-4af9-a8f3-7b504d83d966",
   "metadata": {},
   "outputs": [
    {
     "data": {
      "text/plain": [
       "0.010429579633782445"
      ]
     },
     "execution_count": 30,
     "metadata": {},
     "output_type": "execute_result"
    }
   ],
   "source": [
    "ES_N = sms.TTestIndPower().solve_power(\n",
    "        nobs1=N, \n",
    "        power=0.8, # standard setting\n",
    "        alpha=ALPHA\n",
    "    )\n",
    "ES_N"
   ]
  },
  {
   "cell_type": "markdown",
   "id": "a4c6d169-d28f-4c62-a39e-bb143114b9c5",
   "metadata": {},
   "source": [
    "In `sms.proportion_effectsize` function, effect size for `normal` distribution is defined as :\n",
    "\n",
    "       ES = 2 * (arcsin(sqrt(prop1)) - arcsin(sqrt(prop2)))  \n",
    "\n",
    "We want to solve this for prop1, which in our case is the detectable treatment conversion rate:   \n",
    "\n",
    "       prop1 = sin(ES/2 + arcsin(sqrt(prop2)))**2  \n",
    "       \n",
    "The effect size we'll use here is `ES_N`, and prop2 value is the `CONTROL_CONVERSION_RATE`."
   ]
  },
  {
   "cell_type": "code",
   "execution_count": 31,
   "id": "5a6c8b71-fe42-4695-af44-9feee30be8d7",
   "metadata": {},
   "outputs": [
    {
     "data": {
      "text/plain": [
       "0.10315057219504112"
      ]
     },
     "execution_count": 31,
     "metadata": {},
     "output_type": "execute_result"
    }
   ],
   "source": [
    "prop1 = np.sin(ES_N/2 + np.arcsin(np.sqrt(CONTROL_CONVERSION_RATE)))**2\n",
    "prop1"
   ]
  },
  {
   "cell_type": "code",
   "execution_count": 32,
   "id": "dfa3795b-b300-423b-912a-0f0d80489be5",
   "metadata": {},
   "outputs": [
    {
     "data": {
      "text/plain": [
       "0.0031505721950411125"
      ]
     },
     "execution_count": 32,
     "metadata": {},
     "output_type": "execute_result"
    }
   ],
   "source": [
    "prop1 - CONTROL_CONVERSION_RATE"
   ]
  },
  {
   "cell_type": "markdown",
   "id": "2b8e59ac-cdf1-4043-9e12-a25e749f94ca",
   "metadata": {},
   "source": [
    "This means that if we use our maximum available sample size `N` (=144,316), our A/B test will be precise enough to detect an increase in the conversion rate of just 0.32 of a percentage point, compared to our initial goal of 1 percentage point.  \n",
    "This may seem like a small difference, but if the user base is large enough, it could represent thousands of users who would convert with the new design.  \n",
    "\n",
    "We will take advantage of the maximum available sample size and proceed with an approximate sample size N (the control group size in the cleaned dataset has 3 extra observations, which is close enough).  "
   ]
  },
  {
   "cell_type": "markdown",
   "id": "d19eb4e9-eb31-46b3-aa6d-5c22c89c6bb5",
   "metadata": {},
   "source": [
    "## Experiment conversion rates by treatment group"
   ]
  },
  {
   "cell_type": "code",
   "execution_count": 33,
   "id": "f0518093-80cf-43b5-b2ca-4e23d6e2e359",
   "metadata": {},
   "outputs": [
    {
     "data": {
      "text/html": [
       "<div>\n",
       "<style scoped>\n",
       "    .dataframe tbody tr th:only-of-type {\n",
       "        vertical-align: middle;\n",
       "    }\n",
       "\n",
       "    .dataframe tbody tr th {\n",
       "        vertical-align: top;\n",
       "    }\n",
       "\n",
       "    .dataframe thead th {\n",
       "        text-align: right;\n",
       "    }\n",
       "</style>\n",
       "<table border=\"1\" class=\"dataframe\">\n",
       "  <thead>\n",
       "    <tr style=\"text-align: right;\">\n",
       "      <th></th>\n",
       "      <th>count</th>\n",
       "      <th>mean</th>\n",
       "      <th>std</th>\n",
       "      <th>min</th>\n",
       "      <th>25%</th>\n",
       "      <th>50%</th>\n",
       "      <th>75%</th>\n",
       "      <th>max</th>\n",
       "    </tr>\n",
       "    <tr>\n",
       "      <th>group</th>\n",
       "      <th></th>\n",
       "      <th></th>\n",
       "      <th></th>\n",
       "      <th></th>\n",
       "      <th></th>\n",
       "      <th></th>\n",
       "      <th></th>\n",
       "      <th></th>\n",
       "    </tr>\n",
       "  </thead>\n",
       "  <tbody>\n",
       "    <tr>\n",
       "      <th>control</th>\n",
       "      <td>144319.0</td>\n",
       "      <td>0.120393</td>\n",
       "      <td>0.325422</td>\n",
       "      <td>0.0</td>\n",
       "      <td>0.0</td>\n",
       "      <td>0.0</td>\n",
       "      <td>0.0</td>\n",
       "      <td>1.0</td>\n",
       "    </tr>\n",
       "    <tr>\n",
       "      <th>treatment</th>\n",
       "      <td>144316.0</td>\n",
       "      <td>0.118698</td>\n",
       "      <td>0.323434</td>\n",
       "      <td>0.0</td>\n",
       "      <td>0.0</td>\n",
       "      <td>0.0</td>\n",
       "      <td>0.0</td>\n",
       "      <td>1.0</td>\n",
       "    </tr>\n",
       "  </tbody>\n",
       "</table>\n",
       "</div>"
      ],
      "text/plain": [
       "              count      mean       std  min  25%  50%  75%  max\n",
       "group                                                           \n",
       "control    144319.0  0.120393  0.325422  0.0  0.0  0.0  0.0  1.0\n",
       "treatment  144316.0  0.118698  0.323434  0.0  0.0  0.0  0.0  1.0"
      ]
     },
     "execution_count": 33,
     "metadata": {},
     "output_type": "execute_result"
    }
   ],
   "source": [
    "df.groupby('group')['converted'].describe()"
   ]
  },
  {
   "cell_type": "markdown",
   "id": "46c8f81c-10bc-42d8-9e37-64122358e34c",
   "metadata": {},
   "source": [
    "It looks like the treatment, i.e. the new design, is performing very slightly worse than the old design. This tiny difference could be due to chance, so we need to test whether it is statistically significant.  "
   ]
  },
  {
   "cell_type": "markdown",
   "id": "71d0bfef-059f-4931-8ea8-f0d4073777bb",
   "metadata": {},
   "source": [
    "## Fisher's exact test"
   ]
  },
  {
   "cell_type": "markdown",
   "id": "cfb5da91-fb2a-437e-b6b8-d4a560aa8a49",
   "metadata": {},
   "source": [
    "#### Contingency table"
   ]
  },
  {
   "cell_type": "code",
   "execution_count": 34,
   "id": "276841e7-bc89-4fb9-a75c-cddcdf518f24",
   "metadata": {},
   "outputs": [
    {
     "data": {
      "text/html": [
       "<div>\n",
       "<style scoped>\n",
       "    .dataframe tbody tr th:only-of-type {\n",
       "        vertical-align: middle;\n",
       "    }\n",
       "\n",
       "    .dataframe tbody tr th {\n",
       "        vertical-align: top;\n",
       "    }\n",
       "\n",
       "    .dataframe thead th {\n",
       "        text-align: right;\n",
       "    }\n",
       "</style>\n",
       "<table border=\"1\" class=\"dataframe\">\n",
       "  <thead>\n",
       "    <tr style=\"text-align: right;\">\n",
       "      <th></th>\n",
       "      <th></th>\n",
       "      <th>converted</th>\n",
       "    </tr>\n",
       "    <tr>\n",
       "      <th>group</th>\n",
       "      <th>converted</th>\n",
       "      <th></th>\n",
       "    </tr>\n",
       "  </thead>\n",
       "  <tbody>\n",
       "    <tr>\n",
       "      <th rowspan=\"2\" valign=\"top\">control</th>\n",
       "      <th>0</th>\n",
       "      <td>126944</td>\n",
       "    </tr>\n",
       "    <tr>\n",
       "      <th>1</th>\n",
       "      <td>17375</td>\n",
       "    </tr>\n",
       "    <tr>\n",
       "      <th rowspan=\"2\" valign=\"top\">treatment</th>\n",
       "      <th>0</th>\n",
       "      <td>127186</td>\n",
       "    </tr>\n",
       "    <tr>\n",
       "      <th>1</th>\n",
       "      <td>17130</td>\n",
       "    </tr>\n",
       "  </tbody>\n",
       "</table>\n",
       "</div>"
      ],
      "text/plain": [
       "                     converted\n",
       "group     converted           \n",
       "control   0             126944\n",
       "          1              17375\n",
       "treatment 0             127186\n",
       "          1              17130"
      ]
     },
     "execution_count": 34,
     "metadata": {},
     "output_type": "execute_result"
    }
   ],
   "source": [
    "pd.DataFrame(df.groupby('group')['converted'].value_counts())"
   ]
  },
  {
   "cell_type": "code",
   "execution_count": 35,
   "id": "c2d24105-a2bd-4363-b539-c3031c50f49a",
   "metadata": {},
   "outputs": [],
   "source": [
    "contingency_table = pd.DataFrame(df.groupby('group')['converted'].value_counts())\n",
    "contingency_table.rename(columns={'converted': 'obs_count'}, inplace=True)\n",
    "contingency_table.reset_index(inplace=True)\n",
    "contingency_table = contingency_table.pivot(\n",
    "    columns='converted',\n",
    "    index='group',\n",
    "    values='obs_count'\n",
    ")\n",
    "\n",
    "contingency_table.columns = ['did not convert', 'converted']"
   ]
  },
  {
   "cell_type": "code",
   "execution_count": 36,
   "id": "88f21add-7eab-45cb-8ac8-df6d9a5001b2",
   "metadata": {},
   "outputs": [
    {
     "data": {
      "text/html": [
       "<div>\n",
       "<style scoped>\n",
       "    .dataframe tbody tr th:only-of-type {\n",
       "        vertical-align: middle;\n",
       "    }\n",
       "\n",
       "    .dataframe tbody tr th {\n",
       "        vertical-align: top;\n",
       "    }\n",
       "\n",
       "    .dataframe thead th {\n",
       "        text-align: right;\n",
       "    }\n",
       "</style>\n",
       "<table border=\"1\" class=\"dataframe\">\n",
       "  <thead>\n",
       "    <tr style=\"text-align: right;\">\n",
       "      <th></th>\n",
       "      <th>did not convert</th>\n",
       "      <th>converted</th>\n",
       "    </tr>\n",
       "    <tr>\n",
       "      <th>group</th>\n",
       "      <th></th>\n",
       "      <th></th>\n",
       "    </tr>\n",
       "  </thead>\n",
       "  <tbody>\n",
       "    <tr>\n",
       "      <th>control</th>\n",
       "      <td>126944</td>\n",
       "      <td>17375</td>\n",
       "    </tr>\n",
       "    <tr>\n",
       "      <th>treatment</th>\n",
       "      <td>127186</td>\n",
       "      <td>17130</td>\n",
       "    </tr>\n",
       "  </tbody>\n",
       "</table>\n",
       "</div>"
      ],
      "text/plain": [
       "           did not convert  converted\n",
       "group                                \n",
       "control             126944      17375\n",
       "treatment           127186      17130"
      ]
     },
     "execution_count": 36,
     "metadata": {},
     "output_type": "execute_result"
    }
   ],
   "source": [
    "contingency_table"
   ]
  },
  {
   "cell_type": "code",
   "execution_count": 37,
   "id": "f7573171-1b0c-4310-bdde-b318fff6b853",
   "metadata": {},
   "outputs": [
    {
     "data": {
      "text/plain": [
       "array([[126944,  17375],\n",
       "       [127186,  17130]])"
      ]
     },
     "execution_count": 37,
     "metadata": {},
     "output_type": "execute_result"
    }
   ],
   "source": [
    "contingency_table.to_numpy()"
   ]
  },
  {
   "cell_type": "code",
   "execution_count": 38,
   "id": "91ea4f75-b442-4ea9-8bb5-697ed5fa5b5e",
   "metadata": {},
   "outputs": [
    {
     "data": {
      "text/plain": [
       "SignificanceResult(statistic=0.9840233852262144, pvalue=0.161545015393662)"
      ]
     },
     "execution_count": 38,
     "metadata": {},
     "output_type": "execute_result"
    }
   ],
   "source": [
    "fisher_exact_result = scipy.stats.fisher_exact(\n",
    "    contingency_table.to_numpy(), \n",
    "    alternative='two-sided'\n",
    ")\n",
    "fisher_exact_result"
   ]
  },
  {
   "cell_type": "markdown",
   "id": "a8f56245-07c1-4a87-836d-a09ea81020a7",
   "metadata": {},
   "source": [
    "The resulting Fisher's exact test p-value is much higher than our chosen alpha=0.05."
   ]
  },
  {
   "cell_type": "markdown",
   "id": "cd9f879c-691b-4ddd-af15-f13683927e03",
   "metadata": {},
   "source": [
    "## Two-sample z-test for proportions  \n",
    "\n",
    "Given our very large sample size, we could also leverage normal approximation and test our hypothesis using a simple two-sample z-test for proportions.  \n",
    "We expect the p-value for this test to be roughly consistent with the one from Fisher's exact test. This approach also provides easy to interpret confidence intervals."
   ]
  },
  {
   "cell_type": "code",
   "execution_count": 39,
   "id": "b533fb96-9ad1-40b3-aad7-9a2877fb20fa",
   "metadata": {},
   "outputs": [],
   "source": [
    "control_converted = df[df['group'] == 'control']['converted']\n",
    "treatment_converted = df[df['group'] == 'treatment']['converted']"
   ]
  },
  {
   "cell_type": "code",
   "execution_count": 40,
   "id": "7d6600b2-64fc-432f-82af-0555859f6f6f",
   "metadata": {},
   "outputs": [
    {
     "name": "stdout",
     "output_type": "stream",
     "text": [
      "Z-statistic: 1.404\n",
      "p-value: 0.160\n"
     ]
    }
   ],
   "source": [
    "counts = [\n",
    "    control_converted.sum(), \n",
    "    treatment_converted.sum()\n",
    "]\n",
    "nobs = [\n",
    "    control_converted.count(), \n",
    "    treatment_converted.count()\n",
    "]\n",
    "\n",
    "prop_ztest_result = proportions_ztest(counts, nobs)\n",
    "zstat, pval = prop_ztest_result\n",
    "\n",
    "print(f'Z-statistic: {zstat:.3f}')\n",
    "print(f'p-value: {pval:.3f}')"
   ]
  },
  {
   "cell_type": "markdown",
   "id": "79840169-6bb0-4fcc-8825-b9c9fcdf0d51",
   "metadata": {},
   "source": [
    "#### Confidence intervals"
   ]
  },
  {
   "cell_type": "code",
   "execution_count": 41,
   "id": "d70e9faa-2abd-4527-9535-c3ca8c5b3237",
   "metadata": {},
   "outputs": [
    {
     "name": "stdout",
     "output_type": "stream",
     "text": [
      "Control group 95% confidence interval: [0.1187, 0.1221]\n",
      "Treatment group 95% confidence interval: [0.1170, 0.1204]\n"
     ]
    }
   ],
   "source": [
    "confidence_intervals_bounds = proportion_confint(counts, nobs, alpha=ALPHA)\n",
    "lower_CI_bounds = confidence_intervals_bounds[0]\n",
    "upper_CI_bounds = confidence_intervals_bounds[1]\n",
    "\n",
    "print('Control group 95% confidence interval: '\n",
    "      + f'[{lower_CI_bounds[0]:.4f}, {upper_CI_bounds[0]:.4f}]'\n",
    "     )\n",
    "print('Treatment group 95% confidence interval: '\n",
    "      + f'[{lower_CI_bounds[1]:.4f}, {upper_CI_bounds[1]:.4f}]'\n",
    "     )"
   ]
  },
  {
   "cell_type": "markdown",
   "id": "fb11f2f4-f092-45d8-b707-dca0a1f903d5",
   "metadata": {},
   "source": [
    "## Conclusion  \n",
    "\n",
    "Fisher's exact test p-value=0.16 is much higher than our chosen alpha=0.05. Therefore, we cannot reject the null hypothesis. **This means that there is no significant difference in terms of conversion rates between the new and old landing page designs in our data sample.**  \n",
    "\n",
    "The two-sample z-test for proportions also yielded p-value=0.16, once again supporting that we cannot reject the null hypothesis. The large overlap between the confidence intervals for the control and treatment groups illustrates how the two conversion rates are very similar.  \n",
    "\n",
    "**Since we cannot reject the null hypothesis, we conclude that the new landing page design neither improves nor worsens the conversion rate of the landing page.** "
   ]
  },
  {
   "cell_type": "code",
   "execution_count": null,
   "id": "8bafab1f-2855-4945-b99a-edc0dd6b077c",
   "metadata": {},
   "outputs": [],
   "source": []
  }
 ],
 "metadata": {
  "kernelspec": {
   "display_name": "Python 3 (ipykernel)",
   "language": "python",
   "name": "python3"
  },
  "language_info": {
   "codemirror_mode": {
    "name": "ipython",
    "version": 3
   },
   "file_extension": ".py",
   "mimetype": "text/x-python",
   "name": "python",
   "nbconvert_exporter": "python",
   "pygments_lexer": "ipython3",
   "version": "3.11.3"
  }
 },
 "nbformat": 4,
 "nbformat_minor": 5
}
